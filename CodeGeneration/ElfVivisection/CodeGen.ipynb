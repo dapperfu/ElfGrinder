{
 "cells": [
  {
   "cell_type": "code",
   "execution_count": 1,
   "metadata": {},
   "outputs": [],
   "source": [
    "import jinja2"
   ]
  },
  {
   "cell_type": "code",
   "execution_count": null,
   "metadata": {},
   "outputs": [],
   "source": [
    "# %load Vivi.ino\n",
    "\n",
    "// Config\n",
    "\n",
    "// Serial\n",
    "unsigned long BAUD __attribute__((section(\"CFG_BAUD\"))) = 115200;\n",
    "// Main Loop\n",
    "unsigned long MSG_DELAY __attribute__((section(\"CFG_MSG_DELAY\"))) = 1000;\n",
    "\n",
    "char var_char __attribute__((section(\"DT_CHAR\"))) = -4;\n",
    "\n",
    "int8_t var_int8 __attribute__((section(\"DT_INT8\"))) = -8;\n",
    "int16_t var_int16 __attribute__((section(\"DT_INT16\"))) = -16;\n",
    "int32_t var_int32 __attribute__((section(\"DT_INT32\"))) = -32;\n",
    "\n",
    "\n",
    "uint8_t  var_uint8  __attribute__((section(\"DT_UINT8\"))) = 8;\n",
    "uint16_t var_uint16 __attribute__((section(\"DT_UINT16\"))) = 16;\n",
    "uint32_t var_uint32 __attribute__((section(\"DT_UINT32\"))) = 32;\n",
    "\n",
    "float var_float __attribute__((section(\"DT_FLOAT\"))) = 5;\n",
    "double var_double __attribute__((section(\"DT_DOUBLE\"))) = 5;\n",
    "\n",
    "// Arduino Setup\n",
    "void setup() {\n",
    "\tSerial.begin(BAUD);\n",
    "\t\n",
    "\tSerial.write(var_int8);\n",
    "\t\n",
    "\tSerial.write(var_int16);\n",
    "\tSerial.write(var_int32);\n",
    "\t\n",
    "\t\n",
    "\tSerial.write(var_uint8);\n",
    "\tSerial.write(var_uint16);\n",
    "\tSerial.write(var_uint32);\n",
    "}\n",
    "\n",
    "// Arduino Main Loop\n",
    "\n",
    "uint8_t counter = 0;\n",
    "\n",
    "void loop() {\n",
    "\tvar_double += var_double;\n",
    "}\n"
   ]
  },
  {
   "cell_type": "code",
   "execution_count": 6,
   "metadata": {},
   "outputs": [],
   "source": [
    "import ctypes"
   ]
  },
  {
   "cell_type": "code",
   "execution_count": 11,
   "metadata": {},
   "outputs": [],
   "source": [
    "x = ctypes.c_longdouble(4)"
   ]
  },
  {
   "cell_type": "markdown",
   "metadata": {},
   "source": [
    "https://en.wikipedia.org/wiki/C_data_types"
   ]
  },
  {
   "cell_type": "code",
   "execution_count": 69,
   "metadata": {},
   "outputs": [],
   "source": [
    "import numpy as np\n",
    "from jinja2 import Template"
   ]
  },
  {
   "cell_type": "code",
   "execution_count": 74,
   "metadata": {},
   "outputs": [],
   "source": [
    "class Var(object):\n",
    "    def __init__(self, type_str, value=0):\n",
    "        self.type_str = type_str\n",
    "        self.value = value\n",
    "        \n",
    "    def __repr__(self):\n",
    "        return self.type_str\n",
    "    \n",
    "    @property\n",
    "    def name(self):\n",
    "        return \"var_\"+self.type_str.replace(\" \", \"_\").lower()\n",
    "    \n",
    "    @property\n",
    "    def section(self):\n",
    "        return \"DT_\"+self.type_str.replace(\" \", \"_\").upper()\n",
    "    \n",
    "    @property\n",
    "    def data_type(self):\n",
    "        return self.type_str"
   ]
  },
  {
   "cell_type": "code",
   "execution_count": 73,
   "metadata": {},
   "outputs": [
    {
     "name": "stdout",
     "output_type": "stream",
     "text": [
      "//\n",
      "//\n",
      "//\n",
      "\n",
      "\n",
      "//\n",
      "char\n",
      "var_char\n",
      "char\n",
      "\n",
      "\n",
      "CHAR\n",
      "\n",
      "//\n",
      "unsigned char\n",
      "var_unsigned_char\n",
      "unsigned_char\n",
      "\n",
      "\n",
      "UNSIGNED_CHAR\n",
      "\n",
      "//\n",
      "signed char\n",
      "var_signed_char\n",
      "signed_char\n",
      "\n",
      "\n",
      "SIGNED_CHAR\n",
      "\n"
     ]
    }
   ],
   "source": [
    "variables = [Var(\"char\"), Var(\"unsigned char\"), Var(\"signed char\")]\n",
    "\n",
    "\n",
    "ino_template_str = \"\"\"//\n",
    "//\n",
    "//\n",
    "\n",
    "{% for var in variables %}\n",
    "//\n",
    "{{ var }}\n",
    "var_{{ var | replace( \" \", \"_\") | lower }}\n",
    "{{ var.name }}\n",
    "\n",
    "\n",
    "{{ var | replace( \" \", \"_\") | upper }}\n",
    "{% endfor %}\"\"\"\n",
    "ino_template = Template(ino_template_str)\n",
    "print(ino_template.render(variables=variables))"
   ]
  },
  {
   "cell_type": "code",
   "execution_count": 49,
   "metadata": {},
   "outputs": [
    {
     "name": "stdout",
     "output_type": "stream",
     "text": [
      "\n",
      "\n",
      "char\n",
      "\n"
     ]
    }
   ],
   "source": []
  },
  {
   "cell_type": "code",
   "execution_count": null,
   "metadata": {},
   "outputs": [],
   "source": [
    "https://en.wikipedia.org/wiki/C_data_types"
   ]
  }
 ],
 "metadata": {
  "kernelspec": {
   "display_name": "Python 3",
   "language": "python",
   "name": "python3"
  },
  "language_info": {
   "codemirror_mode": {
    "name": "ipython",
    "version": 3
   },
   "file_extension": ".py",
   "mimetype": "text/x-python",
   "name": "python",
   "nbconvert_exporter": "python",
   "pygments_lexer": "ipython3",
   "version": "3.5.2"
  }
 },
 "nbformat": 4,
 "nbformat_minor": 2
}
