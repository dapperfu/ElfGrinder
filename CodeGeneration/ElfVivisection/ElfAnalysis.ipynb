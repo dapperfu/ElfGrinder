{
 "cells": [
  {
   "cell_type": "markdown",
   "metadata": {},
   "source": [
    "# C data types\n",
    "\n",
    "Basic types as described on: https://en.wikipedia.org/wiki/C_data_types"
   ]
  },
  {
   "cell_type": "code",
   "execution_count": 4,
   "metadata": {},
   "outputs": [],
   "source": [
    "import jinja2\n",
    "from elftools.elf.elffile import ELFFile"
   ]
  },
  {
   "cell_type": "code",
   "execution_count": 5,
   "metadata": {},
   "outputs": [],
   "source": [
    "class CodeGenVar(object):\n",
    "    def __init__(self, type_str, value=0):\n",
    "        self.type_str = type_str\n",
    "        self.value = value\n",
    "        \n",
    "    def __repr__(self):\n",
    "        return self.type_str\n",
    "    \n",
    "    @property\n",
    "    def name(self):\n",
    "        return \"var_\"+self.type_str.replace(\" \", \"_\").lower()\n",
    "    \n",
    "    @property\n",
    "    def elf_section(self):\n",
    "        return \"DT_\"+self.type_str.replace(\" \", \"_\").upper()\n",
    "    \n",
    "    @property\n",
    "    def data_type(self):\n",
    "        return self.type_str\n",
    "\n",
    "c_data_types = [\"char\",\n",
    "                \"signed char\",\n",
    "\"unsigned char\",\n",
    "\"short\",\n",
    "\"short int\",\n",
    "\"signed short\",\n",
    "\"signed short int\",\n",
    "\"unsigned short\",\n",
    "\"unsigned short int\",\n",
    "\"int\",\n",
    "\"signed\",\n",
    "\"signed int\",\n",
    "\"unsigned\",\n",
    "\"unsigned int\",\n",
    "\"long\",\n",
    "\"long int\",\n",
    "\"signed long\",\n",
    "\"signed long int\",\n",
    "\"unsigned long\",\n",
    "\"unsigned long int\",\n",
    "\"long long\",\n",
    "\"long long int\",\n",
    "\"signed long long\",\n",
    "\"signed long long int\",\n",
    "\"unsigned long long\",\n",
    "\"unsigned long long int\",\n",
    "\"float\",\n",
    "\"double\",\n",
    "\"long double\"]\n",
    "\n",
    "code_variables = list()\n",
    "for c_data_type in c_data_types:\n",
    "    code_variables.append(CodeGenVar(c_data_type))"
   ]
  },
  {
   "cell_type": "code",
   "execution_count": 6,
   "metadata": {},
   "outputs": [],
   "source": [
    "import os"
   ]
  },
  {
   "cell_type": "code",
   "execution_count": 7,
   "metadata": {},
   "outputs": [],
   "source": [
    "elf_file = os.path.abspath(\"build-uno/ElfVivisection.elf\")"
   ]
  },
  {
   "cell_type": "code",
   "execution_count": 8,
   "metadata": {},
   "outputs": [],
   "source": [
    "f = open(elf_file, 'rb')\n",
    "elffile = ELFFile(f)"
   ]
  },
  {
   "cell_type": "code",
   "execution_count": 10,
   "metadata": {},
   "outputs": [
    {
     "data": {
      "text/plain": [
       "True"
      ]
     },
     "execution_count": 10,
     "metadata": {},
     "output_type": "execute_result"
    }
   ],
   "source": [
    "elffile.little_endian"
   ]
  },
  {
   "cell_type": "code",
   "execution_count": 11,
   "metadata": {},
   "outputs": [],
   "source": [
    "elf_sections = list(elffile.iter_sections())"
   ]
  },
  {
   "cell_type": "code",
   "execution_count": 12,
   "metadata": {},
   "outputs": [
    {
     "data": {
      "text/plain": [
       "[<elftools.elf.sections.NullSection at 0x7fa65007e160>,\n",
       " <elftools.elf.sections.Section at 0x7fa65007e2e8>,\n",
       " <elftools.elf.sections.Section at 0x7fa65007e390>,\n",
       " <elftools.elf.sections.Section at 0x7fa65007e438>,\n",
       " <elftools.elf.sections.Section at 0x7fa65007e470>,\n",
       " <elftools.elf.sections.NoteSection at 0x7fa65007e4e0>,\n",
       " <elftools.elf.sections.StringTableSection at 0x7fa65007e550>,\n",
       " <elftools.elf.sections.SymbolTableSection at 0x7fa65007e7b8>,\n",
       " <elftools.elf.sections.StringTableSection at 0x7fa65007e860>]"
      ]
     },
     "execution_count": 12,
     "metadata": {},
     "output_type": "execute_result"
    }
   ],
   "source": [
    "elf_sections"
   ]
  },
  {
   "cell_type": "code",
   "execution_count": null,
   "metadata": {},
   "outputs": [],
   "source": []
  }
 ],
 "metadata": {
  "kernelspec": {
   "display_name": "Python 3",
   "language": "python",
   "name": "python3"
  },
  "language_info": {
   "codemirror_mode": {
    "name": "ipython",
    "version": 3
   },
   "file_extension": ".py",
   "mimetype": "text/x-python",
   "name": "python",
   "nbconvert_exporter": "python",
   "pygments_lexer": "ipython3",
   "version": "3.5.2"
  }
 },
 "nbformat": 4,
 "nbformat_minor": 2
}
