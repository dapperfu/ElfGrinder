{
 "cells": [
  {
   "cell_type": "code",
   "execution_count": 15,
   "metadata": {},
   "outputs": [
    {
     "data": {
      "text/plain": [
       "[<elftools.elf.sections.NullSection at 0x7f2e542da6d8>,\n",
       " <elftools.elf.sections.Section at 0x7f2e542d99b0>,\n",
       " <elftools.elf.sections.Section at 0x7f2e542d99e8>,\n",
       " <elftools.elf.sections.Section at 0x7f2e542d9a58>,\n",
       " <elftools.elf.sections.Section at 0x7f2e542d9ac8>,\n",
       " <elftools.elf.sections.Section at 0x7f2e542d9ba8>,\n",
       " <elftools.elf.sections.Section at 0x7f2e542d9c50>,\n",
       " <elftools.elf.sections.Section at 0x7f2e542d9c88>,\n",
       " <elftools.elf.sections.NoteSection at 0x7f2e542d9cf8>,\n",
       " <elftools.elf.sections.StringTableSection at 0x7f2e542d9d68>,\n",
       " <elftools.elf.sections.SymbolTableSection at 0x7f2e542d9ef0>,\n",
       " <elftools.elf.sections.StringTableSection at 0x7f2e542d9f98>]"
      ]
     },
     "execution_count": 15,
     "metadata": {},
     "output_type": "execute_result"
    }
   ],
   "source": [
    "import get_files\n",
    "from elftools.elf.elffile import ELFFile\n",
    "\n",
    "ELFS = get_files.get_files(extensions=\".elf\")\n",
    "\n",
    "CAN_ELFS = [ELF for ELF in ELFS if \"CAN_\" in ELF]\n",
    "\n",
    "for ELF in CAN_ELFS:\n",
    "    break\n",
    "\n",
    "f = open(ELF, 'rb')\n",
    "elffile = ELFFile(f)\n",
    "sections = list(elffile.iter_sections())\n",
    "sections"
   ]
  },
  {
   "cell_type": "code",
   "execution_count": 16,
   "metadata": {},
   "outputs": [
    {
     "data": {
      "text/plain": [
       "<elftools.elf.sections.Section at 0x7f2e542cfeb8>"
      ]
     },
     "execution_count": 16,
     "metadata": {},
     "output_type": "execute_result"
    }
   ],
   "source": [
    "CAN_ID = elffile.get_section_by_name(\"CFG_CAN_ID\")\n",
    "CAN_ID"
   ]
  },
  {
   "cell_type": "code",
   "execution_count": 17,
   "metadata": {},
   "outputs": [
    {
     "data": {
      "text/plain": [
       "b'\\x01\\x00\\x00\\xef'"
      ]
     },
     "execution_count": 17,
     "metadata": {},
     "output_type": "execute_result"
    }
   ],
   "source": [
    "CAN_ID.data()"
   ]
  },
  {
   "cell_type": "code",
   "execution_count": 24,
   "metadata": {},
   "outputs": [
    {
     "data": {
      "text/plain": [
       "Container({'e_shentsize': 40, 'e_type': 'ET_EXEC', 'e_phoff': 52, 'e_shnum': 12, 'e_entry': 0, 'e_shoff': 7752, 'e_phentsize': 32, 'e_machine': 'EM_AVR', 'e_shstrndx': 9, 'e_version': 'EV_CURRENT', 'e_flags': 133, 'e_ident': Container({'EI_OSABI': 'ELFOSABI_SYSV', 'EI_CLASS': 'ELFCLASS32', 'EI_MAG': [127, 69, 76, 70], 'EI_ABIVERSION': 0, 'EI_VERSION': 'EV_CURRENT', 'EI_DATA': 'ELFDATA2LSB'}), 'e_phnum': 3, 'e_ehsize': 52})"
      ]
     },
     "execution_count": 24,
     "metadata": {},
     "output_type": "execute_result"
    }
   ],
   "source": [
    "elffile.header"
   ]
  }
 ],
 "metadata": {
  "kernelspec": {
   "display_name": "Python 3",
   "language": "python",
   "name": "python3"
  },
  "language_info": {
   "codemirror_mode": {
    "name": "ipython",
    "version": 3
   },
   "file_extension": ".py",
   "mimetype": "text/x-python",
   "name": "python",
   "nbconvert_exporter": "python",
   "pygments_lexer": "ipython3",
   "version": "3.5.2"
  }
 },
 "nbformat": 4,
 "nbformat_minor": 2
}
