{
 "cells": [
  {
   "cell_type": "code",
   "execution_count": 1,
   "metadata": {},
   "outputs": [],
   "source": [
    "from elftools.elf.elffile import ELFFile\n",
    "from io import BytesIO"
   ]
  },
  {
   "cell_type": "code",
   "execution_count": 26,
   "metadata": {},
   "outputs": [],
   "source": [
    "def edit_elf(input_elf, output_file=None, **kwargs):\n",
    "    fid = open(input_elf, 'rb')\n",
    "    \n",
    "    f.seek(0)\n",
    "    output_elf = BytesIO(f.read())\n",
    "    \n",
    "    f.seek(0)\n",
    "    elffile = ELFFile(f)\n",
    "    for key, value in kwargs.items():\n",
    "        section = elffile.get_section_by_name(\"CFG_\" + key)\n",
    "        if section is None:\n",
    "            raise Exception(key)\n",
    "            \n",
    "        output_elf.seek(section.header.sh_offset)\n",
    "        output_elf.write(value.to_bytes(section.header.sh_size, 'little'))\n",
    "    if output_file is None:\n",
    "        return output_elf\n",
    "    else:\n",
    "        output_elf.seek(0)\n",
    "        with open(output_file, \"wb\") as fid:\n",
    "            fid.write(output_elf.read())"
   ]
  },
  {
   "cell_type": "code",
   "execution_count": 30,
   "metadata": {},
   "outputs": [],
   "source": [
    "edit_elf(input_elf=\"CAN_send.elf\",\n",
    "         output_file=\"CAN_ID4.elf\",\n",
    "         CAN_ID=4)"
   ]
  },
  {
   "cell_type": "code",
   "execution_count": 31,
   "metadata": {},
   "outputs": [],
   "source": [
    "edit_elf(input_elf=\"CAN_send.elf\",\n",
    "         output_file=\"CAN_ID5.elf\",\n",
    "         CAN_ID=5)"
   ]
  },
  {
   "cell_type": "code",
   "execution_count": null,
   "metadata": {},
   "outputs": [],
   "source": []
  }
 ],
 "metadata": {
  "kernelspec": {
   "display_name": "Python 3",
   "language": "python",
   "name": "python3"
  },
  "language_info": {
   "codemirror_mode": {
    "name": "ipython",
    "version": 3
   },
   "file_extension": ".py",
   "mimetype": "text/x-python",
   "name": "python",
   "nbconvert_exporter": "python",
   "pygments_lexer": "ipython3",
   "version": "3.5.2"
  }
 },
 "nbformat": 4,
 "nbformat_minor": 2
}
