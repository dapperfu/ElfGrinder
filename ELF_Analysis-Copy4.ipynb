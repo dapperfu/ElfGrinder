{
 "cells": [
  {
   "cell_type": "code",
   "execution_count": 6,
   "metadata": {},
   "outputs": [],
   "source": [
    "import get_files\n",
    "from elftools.elf.elffile import ELFFile"
   ]
  },
  {
   "cell_type": "code",
   "execution_count": 7,
   "metadata": {},
   "outputs": [],
   "source": [
    "ELFS = get_files.get_files(extensions=\".elf\")\n",
    "\n",
    "CAN_ELFS = [ELF for ELF in ELFS if \"CAN_\" in ELF]\n",
    "\n",
    "for ELF in CAN_ELFS:\n",
    "    break"
   ]
  },
  {
   "cell_type": "code",
   "execution_count": 8,
   "metadata": {},
   "outputs": [
    {
     "data": {
      "text/plain": [
       "[<elftools.elf.sections.NullSection at 0x7f26b3f4c7f0>,\n",
       " <elftools.elf.sections.Section at 0x7f26b3f5fd68>,\n",
       " <elftools.elf.sections.Section at 0x7f26b3f5fda0>,\n",
       " <elftools.elf.sections.Section at 0x7f26b3f5fe10>,\n",
       " <elftools.elf.sections.Section at 0x7f26b3f5fe80>,\n",
       " <elftools.elf.sections.Section at 0x7f26b3f5fef0>,\n",
       " <elftools.elf.sections.Section at 0x7f26b3f5ffd0>,\n",
       " <elftools.elf.sections.Section at 0x7f26b3f620b8>,\n",
       " <elftools.elf.sections.Section at 0x7f26b3f620f0>,\n",
       " <elftools.elf.sections.NoteSection at 0x7f26b3f62160>,\n",
       " <elftools.elf.sections.StringTableSection at 0x7f26b3f621d0>,\n",
       " <elftools.elf.sections.SymbolTableSection at 0x7f26b3f4c4e0>,\n",
       " <elftools.elf.sections.StringTableSection at 0x7f26b3f62390>]"
      ]
     },
     "execution_count": 8,
     "metadata": {},
     "output_type": "execute_result"
    }
   ],
   "source": [
    "f = open(ELF, 'rb')\n",
    "elffile = ELFFile(f)\n",
    "sections = list(elffile.iter_sections())\n",
    "sections"
   ]
  },
  {
   "cell_type": "code",
   "execution_count": 35,
   "metadata": {
    "scrolled": true
   },
   "outputs": [
    {
     "name": "stdout",
     "output_type": "stream",
     "text": [
      "\n",
      ".data\n",
      "CFG_BAUD\n",
      "CFG_MSG_DELAY\n",
      "CFG_CAN_DATA\n",
      "CFG_CAN_ID\n",
      ".text\n",
      ".bss\n",
      ".comment\n",
      ".note.gnu.avr.deviceinfo\n",
      ".shstrtab\n",
      ".symtab\n",
      ".strtab\n"
     ]
    }
   ],
   "source": [
    "config_sections = \n",
    "for section in sections:\n",
    "    print(section.name)"
   ]
  },
  {
   "cell_type": "code",
   "execution_count": 14,
   "metadata": {},
   "outputs": [],
   "source": [
    "CAN_ID = elffile.get_section_by_name(\"CFG_CAN_ID\")"
   ]
  },
  {
   "cell_type": "code",
   "execution_count": 16,
   "metadata": {},
   "outputs": [
    {
     "data": {
      "text/plain": [
       "<elftools.elf.sections.Section at 0x7f26b3f625c0>"
      ]
     },
     "execution_count": 16,
     "metadata": {},
     "output_type": "execute_result"
    }
   ],
   "source": [
    "CAN_ID"
   ]
  },
  {
   "cell_type": "code",
   "execution_count": 17,
   "metadata": {},
   "outputs": [
    {
     "data": {
      "text/plain": [
       "4"
      ]
     },
     "execution_count": 17,
     "metadata": {},
     "output_type": "execute_result"
    }
   ],
   "source": [
    "baud.header.sh_size"
   ]
  },
  {
   "cell_type": "code",
   "execution_count": 21,
   "metadata": {},
   "outputs": [
    {
     "data": {
      "text/plain": [
       "b'w\\x00\\x00\\x00'"
      ]
     },
     "execution_count": 21,
     "metadata": {},
     "output_type": "execute_result"
    }
   ],
   "source": [
    "CAN_ID.data()"
   ]
  },
  {
   "cell_type": "code",
   "execution_count": null,
   "metadata": {},
   "outputs": [],
   "source": []
  },
  {
   "cell_type": "code",
   "execution_count": 30,
   "metadata": {},
   "outputs": [],
   "source": [
    "with open(ELF, \"rb\") as fid:\n",
    "    fid.seek(baud.header.sh_offset)\n",
    "    assert baud.data() == fid.read(baud.header.sh_size)"
   ]
  },
  {
   "cell_type": "code",
   "execution_count": 31,
   "metadata": {},
   "outputs": [],
   "source": [
    "import shutil"
   ]
  },
  {
   "cell_type": "code",
   "execution_count": 32,
   "metadata": {},
   "outputs": [
    {
     "data": {
      "text/plain": [
       "'output.elf'"
      ]
     },
     "execution_count": 32,
     "metadata": {},
     "output_type": "execute_result"
    }
   ],
   "source": [
    "shutil.copy(ELF, \"output.elf\")"
   ]
  },
  {
   "cell_type": "code",
   "execution_count": 34,
   "metadata": {},
   "outputs": [],
   "source": [
    "fid = open(\"output.elf\", \"rb+\")"
   ]
  },
  {
   "cell_type": "code",
   "execution_count": null,
   "metadata": {},
   "outputs": [],
   "source": [
    "fid.seek"
   ]
  }
 ],
 "metadata": {
  "kernelspec": {
   "display_name": "Python 3",
   "language": "python",
   "name": "python3"
  },
  "language_info": {
   "codemirror_mode": {
    "name": "ipython",
    "version": 3
   },
   "file_extension": ".py",
   "mimetype": "text/x-python",
   "name": "python",
   "nbconvert_exporter": "python",
   "pygments_lexer": "ipython3",
   "version": "3.5.2"
  }
 },
 "nbformat": 4,
 "nbformat_minor": 2
}
