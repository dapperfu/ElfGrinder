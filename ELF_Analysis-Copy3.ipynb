{
 "cells": [
  {
   "cell_type": "code",
   "execution_count": 77,
   "metadata": {},
   "outputs": [],
   "source": [
    "import get_files\n",
    "from elftools.elf.elffile import ELFFile"
   ]
  },
  {
   "cell_type": "code",
   "execution_count": 78,
   "metadata": {},
   "outputs": [],
   "source": [
    "ELFS = get_files.get_files(extensions=\".elf\")\n",
    "\n",
    "CAN_ELFS = [ELF for ELF in ELFS if \"CAN_\" in ELF]\n",
    "\n",
    "for ELF in CAN_ELFS:\n",
    "    break"
   ]
  },
  {
   "cell_type": "code",
   "execution_count": 79,
   "metadata": {},
   "outputs": [
    {
     "data": {
      "text/plain": [
       "[<elftools.elf.sections.NullSection at 0x7f72184fe630>,\n",
       " <elftools.elf.sections.Section at 0x7f72184ebeb8>,\n",
       " <elftools.elf.sections.Section at 0x7f72184ebef0>,\n",
       " <elftools.elf.sections.Section at 0x7f72184ebf60>,\n",
       " <elftools.elf.sections.Section at 0x7f72184ebfd0>,\n",
       " <elftools.elf.sections.Section at 0x7f72184fc160>,\n",
       " <elftools.elf.sections.Section at 0x7f72184fc128>,\n",
       " <elftools.elf.sections.Section at 0x7f72184fc208>,\n",
       " <elftools.elf.sections.Section at 0x7f72184fc240>,\n",
       " <elftools.elf.sections.NoteSection at 0x7f72184fc2b0>,\n",
       " <elftools.elf.sections.StringTableSection at 0x7f72184fc320>,\n",
       " <elftools.elf.sections.SymbolTableSection at 0x7f72184fe4e0>,\n",
       " <elftools.elf.sections.StringTableSection at 0x7f72184fc470>]"
      ]
     },
     "execution_count": 79,
     "metadata": {},
     "output_type": "execute_result"
    }
   ],
   "source": [
    "f = open(ELF, 'rb')\n",
    "elffile = ELFFile(f)\n",
    "sections = list(elffile.iter_sections())\n",
    "sections"
   ]
  },
  {
   "cell_type": "code",
   "execution_count": 80,
   "metadata": {},
   "outputs": [
    {
     "name": "stdout",
     "output_type": "stream",
     "text": [
      "\n",
      ".data\n",
      "CFG_BAUD\n",
      "CFG_MSG_DELAY\n",
      "CFG_CAN_DATA\n",
      "CFG_CAN_ID\n",
      ".text\n",
      ".bss\n",
      ".comment\n",
      ".note.gnu.avr.deviceinfo\n",
      ".shstrtab\n",
      ".symtab\n",
      ".strtab\n"
     ]
    }
   ],
   "source": [
    "for section in sections:\n",
    "    print(section.name)"
   ]
  },
  {
   "cell_type": "code",
   "execution_count": 81,
   "metadata": {},
   "outputs": [],
   "source": [
    "baud = elffile.get_section_by_name(\"CFG_BAUD\")"
   ]
  },
  {
   "cell_type": "code",
   "execution_count": 68,
   "metadata": {},
   "outputs": [
    {
     "data": {
      "text/plain": [
       "3820"
      ]
     },
     "execution_count": 68,
     "metadata": {},
     "output_type": "execute_result"
    }
   ],
   "source": [
    "baud.header.sh_offset"
   ]
  },
  {
   "cell_type": "code",
   "execution_count": 69,
   "metadata": {},
   "outputs": [
    {
     "data": {
      "text/plain": [
       "4"
      ]
     },
     "execution_count": 69,
     "metadata": {},
     "output_type": "execute_result"
    }
   ],
   "source": [
    "baud.header.sh_size"
   ]
  },
  {
   "cell_type": "code",
   "execution_count": 70,
   "metadata": {},
   "outputs": [],
   "source": [
    "fid = open(ELF, \"rb\")"
   ]
  },
  {
   "cell_type": "code",
   "execution_count": 71,
   "metadata": {},
   "outputs": [
    {
     "data": {
      "text/plain": [
       "3820"
      ]
     },
     "execution_count": 71,
     "metadata": {},
     "output_type": "execute_result"
    }
   ],
   "source": [
    "fid.seek(baud.header.sh_offset)"
   ]
  },
  {
   "cell_type": "code",
   "execution_count": 72,
   "metadata": {},
   "outputs": [
    {
     "data": {
      "text/plain": [
       "b'\\x00\\xc2\\x01\\x00'"
      ]
     },
     "execution_count": 72,
     "metadata": {},
     "output_type": "execute_result"
    }
   ],
   "source": [
    "fid.read(baud.header.sh_size)"
   ]
  },
  {
   "cell_type": "code",
   "execution_count": 73,
   "metadata": {},
   "outputs": [
    {
     "data": {
      "text/plain": [
       "b'\\x00\\xc2\\x01\\x00'"
      ]
     },
     "execution_count": 73,
     "metadata": {},
     "output_type": "execute_result"
    }
   ],
   "source": [
    "baud.data()"
   ]
  },
  {
   "cell_type": "code",
   "execution_count": 74,
   "metadata": {},
   "outputs": [],
   "source": [
    "fid.seek(baud.header.sh_offset)\n",
    "assert baud.data() == fid.read(baud.header.sh_size)"
   ]
  },
  {
   "cell_type": "code",
   "execution_count": 75,
   "metadata": {},
   "outputs": [
    {
     "data": {
      "text/plain": [
       "0"
      ]
     },
     "execution_count": 75,
     "metadata": {},
     "output_type": "execute_result"
    }
   ],
   "source": [
    "fid.seek(0)"
   ]
  }
 ],
 "metadata": {
  "kernelspec": {
   "display_name": "Python 3",
   "language": "python",
   "name": "python3"
  },
  "language_info": {
   "codemirror_mode": {
    "name": "ipython",
    "version": 3
   },
   "file_extension": ".py",
   "mimetype": "text/x-python",
   "name": "python",
   "nbconvert_exporter": "python",
   "pygments_lexer": "ipython3",
   "version": "3.5.2"
  }
 },
 "nbformat": 4,
 "nbformat_minor": 2
}
