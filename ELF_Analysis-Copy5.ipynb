{
 "cells": [
  {
   "cell_type": "code",
   "execution_count": 1,
   "metadata": {},
   "outputs": [],
   "source": [
    "import get_files\n",
    "from elftools.elf.elffile import ELFFile"
   ]
  },
  {
   "cell_type": "code",
   "execution_count": 2,
   "metadata": {},
   "outputs": [],
   "source": [
    "ELFS = get_files.get_files(extensions=\".elf\")\n",
    "\n",
    "CAN_ELFS = [ELF for ELF in ELFS if \"CAN_\" in ELF]\n",
    "\n",
    "for ELF in CAN_ELFS:\n",
    "    break"
   ]
  },
  {
   "cell_type": "code",
   "execution_count": 3,
   "metadata": {},
   "outputs": [
    {
     "data": {
      "text/plain": [
       "[<elftools.elf.sections.NullSection at 0x7f85680f52b0>,\n",
       " <elftools.elf.sections.Section at 0x7f8568091a20>,\n",
       " <elftools.elf.sections.Section at 0x7f8568091a58>,\n",
       " <elftools.elf.sections.Section at 0x7f8568091ac8>,\n",
       " <elftools.elf.sections.Section at 0x7f8568091b38>,\n",
       " <elftools.elf.sections.Section at 0x7f8568091ba8>,\n",
       " <elftools.elf.sections.Section at 0x7f8568091c88>,\n",
       " <elftools.elf.sections.Section at 0x7f8568091d30>,\n",
       " <elftools.elf.sections.Section at 0x7f8568091d68>,\n",
       " <elftools.elf.sections.NoteSection at 0x7f8568091dd8>,\n",
       " <elftools.elf.sections.StringTableSection at 0x7f8568091e48>,\n",
       " <elftools.elf.sections.SymbolTableSection at 0x7f8568091fd0>,\n",
       " <elftools.elf.sections.StringTableSection at 0x7f85680980b8>]"
      ]
     },
     "execution_count": 3,
     "metadata": {},
     "output_type": "execute_result"
    }
   ],
   "source": [
    "f = open(ELF, 'rb')\n",
    "elffile = ELFFile(f)\n",
    "sections = list(elffile.iter_sections())\n",
    "sections"
   ]
  },
  {
   "cell_type": "code",
   "execution_count": 8,
   "metadata": {
    "scrolled": true
   },
   "outputs": [],
   "source": [
    "config_sections = [section for section in sections if section.name.startswith(\"CFG_\")]\n",
    "with open(ELF, \"rb\") as fid:\n",
    "    for config_section in config_sections:\n",
    "        fid.seek(config_section.header.sh_offset)\n",
    "        assert config_section.data() == fid.read(config_section.header.sh_size)"
   ]
  },
  {
   "cell_type": "code",
   "execution_count": null,
   "metadata": {},
   "outputs": [],
   "source": []
  }
 ],
 "metadata": {
  "kernelspec": {
   "display_name": "Python 3",
   "language": "python",
   "name": "python3"
  },
  "language_info": {
   "codemirror_mode": {
    "name": "ipython",
    "version": 3
   },
   "file_extension": ".py",
   "mimetype": "text/x-python",
   "name": "python",
   "nbconvert_exporter": "python",
   "pygments_lexer": "ipython3",
   "version": "3.5.2"
  }
 },
 "nbformat": 4,
 "nbformat_minor": 2
}
