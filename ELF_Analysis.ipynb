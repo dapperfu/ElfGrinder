{
 "cells": [
  {
   "cell_type": "code",
   "execution_count": 1,
   "metadata": {},
   "outputs": [],
   "source": [
    "import get_files"
   ]
  },
  {
   "cell_type": "code",
   "execution_count": 2,
   "metadata": {},
   "outputs": [],
   "source": [
    "ELFS = get_files.get_files(\"Blink/\", extensions=\".elf\")"
   ]
  },
  {
   "cell_type": "code",
   "execution_count": 3,
   "metadata": {},
   "outputs": [
    {
     "data": {
      "text/plain": [
       "<generator object get_files at 0x7f180c665750>"
      ]
     },
     "execution_count": 3,
     "metadata": {},
     "output_type": "execute_result"
    }
   ],
   "source": [
    "ELFS"
   ]
  },
  {
   "cell_type": "code",
   "execution_count": 6,
   "metadata": {},
   "outputs": [],
   "source": [
    "CAN_ELFS = [ELF for ELF in ELFS if \"CAN_\" in ELF]"
   ]
  },
  {
   "cell_type": "code",
   "execution_count": 7,
   "metadata": {},
   "outputs": [
    {
     "data": {
      "text/plain": [
       "['/projects/ElfGrinder/Arduino/CANBoard/CAN_send/build-uno/CAN_send.elf']"
      ]
     },
     "execution_count": 7,
     "metadata": {},
     "output_type": "execute_result"
    }
   ],
   "source": [
    "CAN_ELFS"
   ]
  },
  {
   "cell_type": "code",
   "execution_count": 8,
   "metadata": {},
   "outputs": [],
   "source": [
    "for ELF in CAN_ELFS:\n",
    "    break"
   ]
  },
  {
   "cell_type": "code",
   "execution_count": 13,
   "metadata": {},
   "outputs": [],
   "source": [
    "from elftools.elf.elffile import ELFFile"
   ]
  },
  {
   "cell_type": "code",
   "execution_count": 15,
   "metadata": {},
   "outputs": [],
   "source": [
    "def process_file(filename):\n",
    "    print('In file:', filename)\n",
    "    with open(filename, 'rb') as f:\n",
    "        elffile = ELFFile(f)\n",
    "\n",
    "        for section in elffile.iter_sections():\n",
    "            print('  ' + section.name)"
   ]
  },
  {
   "cell_type": "code",
   "execution_count": 16,
   "metadata": {},
   "outputs": [
    {
     "name": "stdout",
     "output_type": "stream",
     "text": [
      "In file: /projects/ElfGrinder/Arduino/CANBoard/CAN_send/build-uno/CAN_send.elf\n"
     ]
    }
   ],
   "source": [
    "process_file(ELF)"
   ]
  },
  {
   "cell_type": "code",
   "execution_count": 19,
   "metadata": {},
   "outputs": [],
   "source": [
    "filename = ELF"
   ]
  },
  {
   "cell_type": "code",
   "execution_count": 28,
   "metadata": {},
   "outputs": [],
   "source": [
    "f = open(filename, 'rb')\n",
    "elffile = ELFFile(f)\n",
    "sections = list(elffile.iter_sections())"
   ]
  },
  {
   "cell_type": "code",
   "execution_count": 36,
   "metadata": {},
   "outputs": [
    {
     "name": "stdout",
     "output_type": "stream",
     "text": [
      "\n",
      ".data\n",
      ".text\n",
      ".bss\n",
      ".comment\n",
      ".note.gnu.avr.deviceinfo\n",
      ".shstrtab\n",
      ".symtab\n",
      ".strtab\n"
     ]
    }
   ],
   "source": [
    "for section in sections:\n",
    "    print(section.name)"
   ]
  },
  {
   "cell_type": "code",
   "execution_count": 38,
   "metadata": {},
   "outputs": [],
   "source": [
    "data = elffile.get_section_by_name(\".data\")"
   ]
  },
  {
   "cell_type": "code",
   "execution_count": 40,
   "metadata": {},
   "outputs": [
    {
     "data": {
      "text/plain": [
       "b'\\x00\\x01\\x02\\x03\\x04\\x05\\x06\\x07\\x00\\x00\\x00\\x00[\\x01\\xd8\\x01\\xfd\\x00\\xa2\\x01.\\x01\\x0c\\x01 \\x01Entering Configuration Mode Failure...\\r\\n\\x00Entering Configuration Mode Successful!\\r\\n\\x00Setting Baudrate Successful!\\r\\n\\x00Returning to Previous Mode Failure...\\r\\n\\x00Message Sent Successfully!\\x00Error Initializing MCP2515...\\x00MCP2515 Initialized Successfully!\\x00Error Sending Message...\\x00'"
      ]
     },
     "execution_count": 40,
     "metadata": {},
     "output_type": "execute_result"
    }
   ],
   "source": [
    "data.data()"
   ]
  },
  {
   "cell_type": "code",
   "execution_count": 46,
   "metadata": {},
   "outputs": [
    {
     "data": {
      "text/plain": [
       "Container({'sh_offset': 3344, 'sh_flags': 3, 'sh_addralign': 1, 'sh_size': 296, 'sh_info': 0, 'sh_entsize': 0, 'sh_link': 0, 'sh_type': 'SHT_PROGBITS', 'sh_name': 27, 'sh_addr': 8388864})"
      ]
     },
     "execution_count": 46,
     "metadata": {},
     "output_type": "execute_result"
    }
   ],
   "source": [
    "data.header"
   ]
  },
  {
   "cell_type": "code",
   "execution_count": 47,
   "metadata": {},
   "outputs": [
    {
     "data": {
      "text/plain": [
       "b'\\x00\\x01\\x02\\x03\\x04\\x05\\x06\\x07\\x00\\x00\\x00\\x00[\\x01\\xd8\\x01\\xfd\\x00\\xa2\\x01.\\x01\\x0c\\x01 \\x01Entering Configuration Mode Failure...\\r\\n\\x00Entering Configuration Mode Successful!\\r\\n\\x00Setting Baudrate Successful!\\r\\n\\x00Returning to Previous Mode Failure...\\r\\n\\x00Message Sent Successfully!\\x00Error Initializing MCP2515...\\x00MCP2515 Initialized Successfully!\\x00Error Sending Message...\\x00'"
      ]
     },
     "execution_count": 47,
     "metadata": {},
     "output_type": "execute_result"
    }
   ],
   "source": [
    "data.data()"
   ]
  },
  {
   "cell_type": "code",
   "execution_count": 53,
   "metadata": {},
   "outputs": [
    {
     "data": {
      "text/plain": [
       "b'\\x00\\x01\\x02\\x03\\x04\\x05\\x06\\x07'"
      ]
     },
     "execution_count": 53,
     "metadata": {},
     "output_type": "execute_result"
    }
   ],
   "source": [
    "data.data()[0:8]"
   ]
  },
  {
   "cell_type": "code",
   "execution_count": null,
   "metadata": {},
   "outputs": [],
   "source": []
  }
 ],
 "metadata": {
  "kernelspec": {
   "display_name": "Python 3",
   "language": "python",
   "name": "python3"
  },
  "language_info": {
   "codemirror_mode": {
    "name": "ipython",
    "version": 3
   },
   "file_extension": ".py",
   "mimetype": "text/x-python",
   "name": "python",
   "nbconvert_exporter": "python",
   "pygments_lexer": "ipython3",
   "version": "3.7.3"
  }
 },
 "nbformat": 4,
 "nbformat_minor": 2
}
