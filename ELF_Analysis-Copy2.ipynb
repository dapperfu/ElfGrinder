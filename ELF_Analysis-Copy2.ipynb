{
 "cells": [
  {
   "cell_type": "code",
   "execution_count": 40,
   "metadata": {},
   "outputs": [],
   "source": [
    "import get_files\n",
    "from elftools.elf.elffile import ELFFile"
   ]
  },
  {
   "cell_type": "code",
   "execution_count": 41,
   "metadata": {},
   "outputs": [],
   "source": [
    "ELFS = get_files.get_files(extensions=\".elf\")\n",
    "\n",
    "CAN_ELFS = [ELF for ELF in ELFS if \"CAN_\" in ELF]\n",
    "\n",
    "for ELF in CAN_ELFS:\n",
    "    break"
   ]
  },
  {
   "cell_type": "code",
   "execution_count": 42,
   "metadata": {},
   "outputs": [
    {
     "data": {
      "text/plain": [
       "[<elftools.elf.sections.NullSection at 0x7fdf642697f0>,\n",
       " <elftools.elf.sections.Section at 0x7fdf641faf60>,\n",
       " <elftools.elf.sections.Section at 0x7fdf641faf98>,\n",
       " <elftools.elf.sections.Section at 0x7fdf64203048>,\n",
       " <elftools.elf.sections.Section at 0x7fdf642030b8>,\n",
       " <elftools.elf.sections.Section at 0x7fdf64203198>,\n",
       " <elftools.elf.sections.Section at 0x7fdf64203240>,\n",
       " <elftools.elf.sections.Section at 0x7fdf64203278>,\n",
       " <elftools.elf.sections.NoteSection at 0x7fdf642032e8>,\n",
       " <elftools.elf.sections.StringTableSection at 0x7fdf64203358>,\n",
       " <elftools.elf.sections.SymbolTableSection at 0x7fdf64203438>,\n",
       " <elftools.elf.sections.StringTableSection at 0x7fdf64203518>]"
      ]
     },
     "execution_count": 42,
     "metadata": {},
     "output_type": "execute_result"
    }
   ],
   "source": [
    "f = open(ELF, 'rb')\n",
    "elffile = ELFFile(f)\n",
    "sections = list(elffile.iter_sections())\n",
    "sections"
   ]
  },
  {
   "cell_type": "code",
   "execution_count": 43,
   "metadata": {},
   "outputs": [
    {
     "name": "stdout",
     "output_type": "stream",
     "text": [
      "\n",
      ".data\n",
      "CFG_MSG_DELAY\n",
      "CFG_CAN_DATA\n",
      "CFG_CAN_ID\n",
      ".text\n",
      ".bss\n",
      ".comment\n",
      ".note.gnu.avr.deviceinfo\n",
      ".shstrtab\n",
      ".symtab\n",
      ".strtab\n"
     ]
    }
   ],
   "source": [
    "for section in sections:\n",
    "    print(section.name)"
   ]
  },
  {
   "cell_type": "code",
   "execution_count": 44,
   "metadata": {},
   "outputs": [],
   "source": [
    "symtab = elffile.get_section_by_name(\".symtab\")"
   ]
  },
  {
   "cell_type": "code",
   "execution_count": 45,
   "metadata": {},
   "outputs": [
    {
     "name": "stdout",
     "output_type": "stream",
     "text": [
      "\n",
      "\n",
      "\n",
      "\n",
      "\n",
      "\n",
      "\n",
      "\n",
      "\n",
      "ccvlHNL7.ltrans0.o\n",
      "__SP_H__\n",
      "__SP_L__\n",
      "__SREG__\n",
      "__tmp_reg__\n",
      "__zero_reg__\n",
      "pinMode.constprop.28\n",
      "digital_pin_to_bit_mask_PGM\n",
      "digital_pin_to_port_PGM\n",
      "port_to_mode_PGM\n",
      "port_to_output_PGM\n",
      "digitalWrite\n",
      "digital_pin_to_timer_PGM\n",
      "_ZN8SPIClass14endTransactionEv\n",
      "_ZN8SPIClass8transferEh\n",
      "_ZN8SPIClass16beginTransactionE11SPISettings\n",
      "_ZN14HardwareSerial17availableForWriteEv\n",
      "_ZN14HardwareSerial4readEv\n",
      "_ZN14HardwareSerial4peekEv\n",
      "_ZN14HardwareSerial9availableEv\n",
      "_ZN14HardwareSerial17_tx_udr_empty_irqEv\n",
      "_ZN14HardwareSerial5writeEh\n",
      "_ZN14HardwareSerial5writeEi.constprop.23\n",
      "Serial\n",
      "_ZN14HardwareSerial5flushEv\n",
      "_Z17Serial0_availablev\n",
      "_Z14serialEventRunv\n",
      "_ZN5Print5writeEPKhj\n",
      "_ZN5Print5flushEv\n",
      "_ZN5Print17availableForWriteEv\n",
      "micros\n",
      "timer0_overflow_count\n",
      "_ZN5Print5writeEPKc.constprop.26\n",
      "_ZN7MCP_CAN20mcp2515_readRegisterEh.constprop.22\n",
      "CAN0\n",
      "_ZN7MCP_CAN22mcp2515_modifyRegisterEhhh.constprop.21\n",
      "_ZN7MCP_CAN23mcp2515_setCANCTRL_ModeEh.constprop.20\n",
      "_ZN7MCP_CAN19mcp2515_setRegisterEhh.constprop.17\n",
      "_ZN7MCP_CAN20mcp2515_setRegisterSEhPKhh.constprop.16\n",
      "_ZN7MCP_CAN16mcp2515_write_mfEhhm.constprop.15\n",
      "__cxa_pure_virtual\n",
      "_GLOBAL__I_65535_0_CAN_send.ino.o.1985\n",
      "_ZTV14HardwareSerial\n",
      "_ZN8SPIClass11initializedE\n",
      "CAN_ID\n",
      "CAN_DATA\n",
      "MSG_DELAY\n",
      "timer0_millis\n",
      "timer0_fract\n",
      "_clear_bss.o\n",
      ".do_clear_bss_start\n",
      ".do_clear_bss_loop\n",
      "_exit.o\n",
      "__stop_program\n",
      "\n",
      "__vector_22\n",
      "__vector_1\n",
      "__trampolines_start\n",
      "_etext\n",
      "__vector_24\n",
      "__vector_12\n",
      "__bad_interrupt\n",
      "__data_load_end\n",
      "__vector_6\n",
      "__trampolines_end\n",
      "__vector_3\n",
      "__vector_23\n",
      "__data_load_start\n",
      "__dtors_end\n",
      "__bss_end\n",
      "abort\n",
      "__vector_25\n",
      "__vector_11\n",
      "__init\n",
      "__vector_13\n",
      "__vector_17\n",
      "__vector_19\n",
      "__vector_7\n",
      "__do_clear_bss\n",
      "__eeprom_end\n",
      "_Z11serialEventv\n",
      "__vectors\n",
      "__data_end\n",
      "__vector_default\n",
      "__vector_5\n",
      "__tablejump2__\n",
      "__ctors_start\n",
      "__do_copy_data\n",
      "__bss_start\n",
      "main\n",
      "__vector_4\n",
      "__heap_end\n",
      "__vector_9\n",
      "__vector_2\n",
      "__vector_21\n",
      "__vector_15\n",
      "__dtors_start\n",
      "__ctors_end\n",
      "__stack\n",
      "_edata\n",
      "_end\n",
      "__vector_8\n",
      "exit\n",
      "_exit\n",
      "__vector_14\n",
      "__vector_10\n",
      "__vector_16\n",
      "__data_start\n",
      "__vector_18\n",
      "__vector_20\n",
      "__do_global_ctors\n"
     ]
    }
   ],
   "source": [
    "for symbol in symtab.iter_symbols():\n",
    "    print(symbol.name)"
   ]
  },
  {
   "cell_type": "code",
   "execution_count": 48,
   "metadata": {},
   "outputs": [],
   "source": [
    "CAN_ID = symtab.get_symbol_by_name(\"CAN_ID\")[0]"
   ]
  }
 ],
 "metadata": {
  "kernelspec": {
   "display_name": "Python 3",
   "language": "python",
   "name": "python3"
  },
  "language_info": {
   "codemirror_mode": {
    "name": "ipython",
    "version": 3
   },
   "file_extension": ".py",
   "mimetype": "text/x-python",
   "name": "python",
   "nbconvert_exporter": "python",
   "pygments_lexer": "ipython3",
   "version": "3.5.2"
  }
 },
 "nbformat": 4,
 "nbformat_minor": 2
}
